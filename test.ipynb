import cv2
import matplotlib.pyplot as plt

# 初期化
i = 0
x = []
yb = []
yg = []
yr = []
plt.ion()

# MATPLOTLIB コンフィグ
plt.title('Luminance') ## グラフタイトル
plt.xlabel('x') ## x軸ラベル
plt.ylabel('y') ## y軸ラベル
plt.xlim(0,100) ## x軸範囲固定
plt.grid() ## グリッド線オン

# カメラのキャプチャを開始 --- (*1)
cam = cv2.VideoCapture(0)
while True:
    # 画像を取得 --- (*2)
    _, img = cam.read()
    # ウィンドウに画像を表示 --- (*3)
    cv2.imshow('PUSH ENTER KEY', img)
 
    b, g, r = cv2.split(img)  # 画像をチャンネルごとに分離する。
    
    i = i + 1
    
    ## 描画データ生成
    x.append(i) ## x軸
    yb.append(b.mean()) ##　y軸
    yg.append(g.mean()) ##　y軸
    yr.append(r.mean()) ##　y軸

    plt.plot(x,yb,color='blue')
    plt.plot(x,yg,color='green')
    plt.plot(x,yr,color='red')

    ## グラフ描画
    plt.draw()
    
    ## 更新待機（秒）
    plt.pause(0.1)
    # Enterキーが押されたら終了する
    if cv2.waitKey(1) == 13:
        plt.close() ## グラフを閉じる
        break




# 後始末
cam.release()
cv2.destroyAllWindows()
